{
  "nbformat": 4,
  "nbformat_minor": 0,
  "metadata": {
    "colab": {
      "name": "DSA Project.ipynb",
      "provenance": [],
      "collapsed_sections": [],
      "toc_visible": true,
      "include_colab_link": true
    },
    "kernelspec": {
      "name": "python3",
      "display_name": "Python 3"
    }
  },
  "cells": [
    {
      "cell_type": "markdown",
      "metadata": {
        "id": "view-in-github",
        "colab_type": "text"
      },
      "source": [
        "<a href=\"https://colab.research.google.com/github/WalkerSyed581/SearchEngine/blob/master/DSA_Project.ipynb\" target=\"_parent\"><img src=\"https://colab.research.google.com/assets/colab-badge.svg\" alt=\"Open In Colab\"/></a>"
      ]
    },
    {
      "cell_type": "code",
      "metadata": {
        "id": "FKs56YrAk4Z5",
        "colab_type": "code",
        "outputId": "acfb59c0-e80a-4061-bfc3-c64d2d4a4cdc",
        "colab": {
          "base_uri": "https://localhost:8080/",
          "height": 54
        }
      },
      "source": [
        "import nltk\n",
        "import json\n",
        "\n",
        "ps = PorterStemmer()\n",
        "\n",
        "text = \"\"\n",
        "for i in range(1,5):\n",
        "    jsonFile = open(\"blogs_000000\" + str(i) + \".json\",\"r\")\n",
        "    data = json.loads(jsonFile.read())\n",
        "    text += \" \" + data[\"text\"]\n",
        "\n",
        "tokens = nltk.regexp_tokenize(text,r'\\w+')\n",
        "\n",
        "for token in tokens:\n",
        "  ps.stem(token)\n",
        "\n",
        "print(tokens)\n"
      ],
      "execution_count": 23,
      "outputs": [
        {
          "output_type": "stream",
          "text": [
            "['by', 'Gary', 'Susman', 'Sure', '2016', 's', 'domestic', 'box', 'office', 'did', 'hit', 'a', 'record', '11', '3', 'billion', 'up', 'a', 'modest', '1', '7', 'percent', 'from', '2015', 's', 'record', 'take', 'But', 'that', 'doesn', 't', 'account', 'for', 'the', 'inflation', 'in', 'the', 'average', 'ticket', 'price', '8', '61', 'this', 'year', 'up', '18', 'cents', 'from', '2015', 'which', 'means', 'the', 'number', 'of', 'tickets', 'sold', 'this', 'year', '1', '31', 'billion', 'was', 'down', 'a', 'hair', 'from', 'a', 'year', 'ago', 'when', 'theaters', 'sold', 'six', 'million', 'more', 'tickets', 'In', 'fact', 'the', 'total', 'number', 'of', 'tickets', 'sold', 'has', 'been', 'slipping', 'ever', 'since', 'the', 'peak', 'year', 'of', '2002', '1', '58', 'billion', 'tickets', 'The', 'current', 'weekend', 'is', 'a', 'pretty', 'good', 'snapshot', 'of', 'the', 'year', 'as', 'a', 'whole', 'Rogue', 'One', 'A', 'Star', 'Wars', 'Story', 'topped', 'the', 'charts', 'for', 'a', 'third', 'straight', 'weekend', 'with', 'an', 'estimated', '50', 'million', 'for', 'a', 'total', 'of', 'more', 'than', '400', 'million', 'domestic', 'to', 'date', 'That', 'made', 'it', '2016', 's', 'second', 'highest', 'grossing', 'film', 'surpassing', 'Captain', 'America', 'Civil', 'War', 'Looking', 'at', 'these', 'movies', 'as', 'well', 'as', 'the', 'rest', 'of', 'the', 'year', 'it', 'becomes', 'easier', 'to', 'find', 'trends', 'amid', 'the', 'box', 'office', 'confusion', 'of', '2016', 'and', 'declare', 'some', 'clear', 'winners', 'and', 'losers', 'WINNERS', '1', 'Star', 'Wars', 'Along', 'with', 'Rogue', 'One', 's', 'earnings', 'so', 'far', 'and', 'The', 'Force', 'Awakens', 'playing', 'into', 'the', 'early', 'months', 'of', '2016', 'the', 'franchise', 'accounts', 'for', 'a', 'solid', '700', 'million', 'toward', 'the', 'year', 's', 'total', 'take', 'in', 'North', 'America', 'We', 've', 'never', 'had', 'a', 'year', 'with', 'two', 'Star', 'Wars', 'movies', 'in', 'the', 'multiplex', 'before', 'which', 'paves', 'the', 'way', 'for', 'Episode', 'VIII', 'in', 'December', '2017', '2', 'Disney', 'The', 'House', 'That', 'Walt', 'Built', 'was', 'far', 'and', 'away', 'the', 'market', 'leader', 'this', 'year', 'both', 'globally', 'and', 'domestically', 'With', 'Star', 'Wars', 'Marvel', 'Pixar', 'and', 'live', 'action', 'remakes', 'of', 'its', 'animated', 'library', 'the', 'studio', 'has', 'hit', 'upon', 'several', 'winning', 'formulas', 'enough', 'to', 'power', 'it', 'past', '7', 'billion', 'globally', 'this', 'year', 'Disney', 'scored', 'four', 'billion', 'dollar', 'movies', 'and', 'six', 'of', 'this', 'year', 's', 'ten', 'biggest', 'domestic', 'hits', 'Not', 'everything', 'worked', 'but', 'the', 'big', 'smashes', 'were', 'more', 'than', 'big', 'enough', 'to', 'make', 'up', 'for', 'the', 'extravagant', 'flops', 'sorry', 'not', 'sorry', 'Alice', 'Through', 'the', 'Looking', 'Glass', 'and', 'The', 'BFG', '3', 'China', 'Remember', 'what', 'a', 'huge', 'flop', 'Warcraft', 'seemed', 'to', 'be', 'earlier', 'this', 'summer', 'It', 'made', 'only', '47', 'million', 'here', 'but', 'it', 'was', 'a', 'massive', 'hit', 'abroad', 'earning', '386', 'million', 'The', 'largest', 'chunk', 'of', 'that', 'change', 'came', 'from', 'China', '221', 'million', 'a', 'market', 'whose', 'taste', 'in', 'movies', 'is', 'now', 'arguably', 'more', 'important', 'than', 'Americans', 'taste', 'as', 'far', 'as', 'determining', 'which', 'films', 'Hollywood', 'greenlights', 'Of', 'course', 'if', 'President', 'elect', 'Trump', 'goes', 'all', 'protectionist', 'on', 'trade', 'with', 'China', 'that', 'country', 'may', 'respond', 'by', 'limiting', 'Hollywood', 'imports', 'which', 'would', 'mean', 'fewer', 'Warcrafts', 'getting', 'made', 'A', 'win', 'win', 'for', 'everybody', '4', 'Talking', 'Animals', 'Finding', 'Dory', 'The', 'Secret', 'Life', 'of', 'Pets', 'The', 'Jungle', 'Book', 'and', 'Zootopia', 'were', 'all', 'among', 'the', 'year', 's', 'top', '10', 'movies', 'Current', 'hit', 'Sing', 'is', 'in', 'the', 'top', '20', 'with', '177', 'million', 'to', 'date', '5', 'Idris', 'Elba', 'Did', 'any', 'actor', 'have', 'a', 'better', 'box', 'office', 'year', 'in', '2016', 'With', 'Zootopia', 'The', 'Jungle', 'Book', 'Finding', 'Dory', 'and', 'Star', 'Trek', 'Beyond', 'his', 'movies', 'made', '1', '35', 'billion', 'in', 'North', 'America', 'Granted', 'he', 's', 'seen', 'on', 'camera', 'in', 'just', 'one', 'of', 'those', 'films', 'but', 'still', 'his', 'name', 'in', 'the', 'credits', 'now', 'seems', 'to', 'be', 'a', 'sign', 'that', 'the', 'movie', 'is', 'going', 'to', 'be', 'a', 'well', 'crafted', 'popcorn', 'entertainment', 'LOSERS', '6', 'Bad', 'Sequels', 'Alice', 'Through', 'the', 'Looking', 'Glass', 'Independence', 'Day', 'Resurgence', 'Neighbors', '2', 'Sorority', 'Rising', 'Teenage', 'Mutant', 'Ninja', 'Turtles', 'Out', 'of', 'the', 'Shadows', 'The', 'Divergent', 'Series', 'Allegiant', 'Now', 'You', 'See', 'Me', '2', 'Zoolander', '2', 'Bad', 'Santa', '2', 'and', 'many', 'others', 'flopped', 'because', 'either', 'you', 'didn', 't', 'like', 'them', 'or', 'want', 'them', 'Same', 'was', 'true', 'for', 'some', 'uninspired', 'remakes', 'including', 'Ghostbusters', 'Ben', 'Hur', 'and', 'Pete', 's', 'Dragon', 'None', 'of', 'this', 'is', 'going', 'to', 'stop', 'the', 'studios', 'from', 'betting', 'the', 'farm', 'on', 'sequels', 'they', 're', 'still', 'easier', 'to', 'market', 'than', 'unfamiliar', 'original', 'titles', 'and', 'they', 're', 'still', 'likely', 'to', 'make', 'money', 'if', 'they', 're', 'done', 'right', 'A', 'big', 'if', 'to', 'be', 'sure', '7', 'Hollywood', 'Stars', 'Aren', 't', 'a', 'Sure', 'Thing', 'to', 'Put', 'Butts', 'in', 'Seats', 'More', 'than', 'ever', 'it', 'became', 'apparent', 'that', 'marquee', 'names', 'alone', 'aren', 't', 'enough', 'to', 'sell', 'a', 'movie', 'and', 'they', 're', 'certainly', 'not', 'enough', 'to', 'turn', 'a', 'dog', 'of', 'a', 'film', 'into', 'a', 'thoroughbred', 'Passengers', 'is', 'currently', 'flailing', 'despite', 'the', 'presence', 'of', 'Jennifer', 'Lawrence', 'and', 'Chris', 'Pratt', 'in', 'two', 'weeks', 'it', 's', 'earned', 'back', 'just', '61', 'million', 'of', 'its', '110', 'million', 'budget', 'and', 'James', 'Franco', 'couldn', 't', 'sell', 'Why', 'Him', 'an', 'estimated', '10', 'million', 'this', 'weekend', 'for', 'a', 'total', 'of', '37', '6', 'million', 'to', 'date', 'though', 'that', 'one', 'cost', 'just', '38', 'million', 'to', 'make', 'Throughout', '2016', 'Johnny', 'Depp', 'Brad', 'Pitt', 'Ben', 'Stiller', 'Will', 'Smith', 'Melissa', 'McCarthy', 'and', 'other', 'A', 'listers', 'failed', 'to', 'interest', 'ticketbuyers', 'in', 'their', 'latest', 'weak', 'offerings', 'Tom', 'Hanks', 'helped', 'make', 'the', 'well', 'liked', 'Sully', 'a', 'hit', 'but', 'couldn', 't', 'interest', 'anyone', 'in', 'the', 'widely', 'ridiculed', 'threequel', 'Inferno', 'But', 'even', 'quality', 'star', 'driven', 'movies', 'can', 'be', 'a', 'tough', 'sell', 'Meryl', 'Streep', 'pulled', 'in', 'just', '27', 'million', 'for', 'Florence', 'Foster', 'Jenkins', 'Amy', 'Adams', 'and', 'Jake', 'Gyllenhaal', 'haven', 't', 'been', 'able', 'to', 'propel', 'Nocturnal', 'Animals', 'past', 'the', '10', 'million', 'mark', 'Jury', 's', 'still', 'out', 'on', 'Denzel', 'Washington', 's', 'Fences', 'which', 'has', 'made', 'just', '33', 'million', 'in', 'three', 'weeks', 'but', 'has', 'yet', 'to', 'go', 'into', 'wide', 'release', 'After', 'tireless', 'promotion', 'by', 'stars', 'Ryan', 'Gosling', 'and', 'Emma', 'Stone', 'three', 'week', 'old', 'La', 'La', 'Land', 'is', 'the', 'biggest', 'limited', 'release', 'hit', 'of', 'the', 'year', 'but', 'even', 'that', 'amounts', 'to', 'only', 'about', '37', 'million', 'so', 'far', '8', 'Movies', 'for', 'Guys', 'Yes', 'testosterone', 'still', 'rules', 'the', 'marketplace', 'which', 'helps', 'explain', 'all', 'the', 'superhero', 'movies', 'Still', 'it', 's', 'worth', 'noting', 'that', 'at', 'least', 'eight', 'of', 'the', 'top', '25', 'movies', 'are', 'driven', 'by', 'female', 'protagonists', 'as', 'studios', 'start', 'to', 'recognize', 'that', 'women', 'buy', 'tickets', 'too', 'Meanwhile', 'sausage', 'fests', 'like', 'The', 'Nice', 'Guys', 'War', 'Dogs', 'Dirty', 'Grandpa', 'and', 'the', 'current', 'Assassin', 's', 'Creed', 'and', 'Why', 'Him', 'all', 'had', 'a', 'hard', 'time', 'drawing', 'dudes', 'to', 'the', 'theater', 'Maybe', 'guys', 'stayed', 'home', 'this', 'weekend', 'to', 'watch', 'college', 'football', 'playoffs', 'or', 'maybe', 'there', 'just', 'wasn', 't', 'anything', 'on', 'that', 'menu', 'as', 'compelling', 'as', 'watching', 'Felicity', 'Jones', 'fight', 'the', 'empire', 'in', 'Rogue', 'One', 'Deuce', 'McAllister', 'last', 'reached', 'the', 'mark', 'in', '2006', 'when', 'he', 'did', 'it', 'a', 'fourth', 'time', 'Monday', '2', 'January', '2017', '15', '54', 'BST', 'Shoppers', 'The', 'number', 'of', 'shoppers', 'on', 'New', 'Year', 's', 'Day', 'fell', 'drastically', 'AFP', 'Getty', 'Images', 'The', 'number', 'of', 'people', 'flocking', 'to', 'shopping', 'centres', 'on', 'New', 'Year', 's', 'Day', 'has', 'plummeted', 'by', 'nearly', 'half', 'since', 'last', 'year', 'Shopping', 'centres', 'saw', 'a', 'drastic', 'drop', 'in', 'the', 'number', 'of', 'shoppers', 'on', 'the', 'first', 'day', 'of', '2017', 'compared', 'to', 'January', '1', 'last', 'year', 'Footfall', 'was', 'down', 'by', '49', '5', 'per', 'cent', 'while', 'high', 'streets', 'across', 'the', 'UK', 'also', 'saw', 'an', 'average', 'of', '12', '7', 'per', 'cent', 'fewer', 'customers', 'Poor', 'weather', 'reduced', 'opening', 'hours', 'and', 'spending', 'sprees', 'at', 'the', 'start', 'of', 'the', 'festive', 'period', 'were', 'all', 'blamed', 'for', 'the', 'dip', 'in', 'sales', 'shopping', 'popularity', 'Busy', 'Shoppers', 'in', 'central', 'London', 'in', 'the', 'run', 'up', 'to', 'Christmas', 'Jeremy', 'Selwyn', 'On', 'average', 'the', 'whole', 'New', 'Year', 's', 'weekend', 'saw', 'a', 'drop', 'of', '16', '1', 'per', 'cent', 'in', 'sales', 'the', 'figures', 'from', 'retail', 'analysis', 'company', 'Springboard', 'show', 'Read', 'more', '0', 'Jan', '1', '2017', '5', '34', '38', 'PM', 'Alex', 'Iwobi', 'can', 'build', 'on', 'his', 'goal', 'against', 'Crystal', 'Palace', 'and', 'become', 'a', 'regular', 'scorer', 'for', 'Arsenal', 'this', 'season', 'says', 'Arsene', 'Wenger', 'Arsenal', 'manager', 'Arsene', 'Wenger', 'is', 'confident', 'Alex', 'Iwobi', 'will', 'start', 'scoring', 'on', 'a', 'more', 'regular', 'basis', 'after', 'he', 'netted', 'only', 'his', 'second', 'Premier', 'League', 'goal', 'of', 'the', 'season', 'in', 'the', '2', '0', 'win', 'over', 'Crystal', 'Palace', 'The', 'Nigeria', 'international', 'has', 'struggled', 'somewhat', 'in', 'front', 'of', 'goal', 'this', 'campaign', 'and', 'some', 'have', 'questioned', 'his', 'finishing', 'skills', 'Nevertheless', 'Wenger', 'has', 'offered', 'Iwobi', 'words', 'of', 'encouragement', 'in', 'the', 'wake', 'of', 'Sunday', 's', 'victory', 'and', 'stressed', 'that', 'he', 'already', 'saw', 'the', 'versatile', 'attacker', 's', 'goal', 'coming', 'on', 'the', 'training', 'pitch', 'Giroud', 'proves', 'he', 'must', 'start', 'for', 'Arsenal', 'There', 'are', 'always', 'signs', 'when', 'a', 'guy', 'starts', 'to', 'score', 'goals', 'in', 'training', 'that', 'they', 'will', 'come', 'in', 'games', 'and', 'he', 'has', 'that', 'Now', 'in', 'training', 'he', 'starts', 'to', 'score', 'goals', 'I', 'am', 'sure', 'he', 'will', 'score', 'as', 'well', 'in', 'the', 'games', 'Wenger', 'stated', 'at', 'a', 'news', 'conference', 'I', 'believe', 'he', 'is', 'always', 'available', 'quick', 'in', 'his', 'movement', 'wants', 'the', 'ball', 'can', 'hold', 'people', 'off', 'On', 'top', 'of', 'that', 'now', 'he', 'starts', 'to', 'score', 'goals', 'People', 'forget', 'he', 'is', '20', 'years', 'old', 'I', 'think', 'he', 'had', 'a', 'very', 'good', 'game', 'His', 'quality', 'of', 'pass', 'of', 'availability', 'is', 'exceptional', 'for', 'a', 'young', 'boy', 'He', 'lacked', 'a', 'bit', 'of', 'quality', 'of', 'receptiveness', 'in', 'dangerous', 'areas', 'and', 'I', 'hope', 'that', 'these', 'goals', 'he', 'scores', 'now', 'will', 'give', 'him', 'the', 'taste', 'as', 'well', 'to', 'go', 'where', 'he', 'can', 'finish', 'it', 'off', 'Related']\n"
          ],
          "name": "stdout"
        }
      ]
    },
    {
      "cell_type": "code",
      "metadata": {
        "id": "Camdl2i90Lht",
        "colab_type": "code",
        "colab": {}
      },
      "source": [
        "\n"
      ],
      "execution_count": 0,
      "outputs": []
    }
  ]
}